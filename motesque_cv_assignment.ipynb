{
  "nbformat": 4,
  "nbformat_minor": 0,
  "metadata": {
    "colab": {
      "name": "motesque_cv_assignment.ipynb",
      "provenance": [],
      "collapsed_sections": [
        "vD91pEdUqg5G",
        "41d9u70fyJDW"
      ]
    },
    "kernelspec": {
      "name": "python3",
      "display_name": "Python 3"
    }
  },
  "cells": [
    {
      "cell_type": "markdown",
      "metadata": {
        "id": "J3-QDh-Eoh6I"
      },
      "source": [
        "# Motesque Computer Vision Assignment\n",
        "Hi,\n",
        "\n",
        "thank you for your interest in Motesque! As a computer vision engineer, you will have the opportunity to work on exciting problems and will shape the whole journey from the first product idea to deployment. \n",
        "\n",
        "This assignment is meant for you to demonstrate your understanding of both traditional CV and machine learning via Neural Networks."
      ]
    },
    {
      "cell_type": "markdown",
      "metadata": {
        "id": "vD91pEdUqg5G"
      },
      "source": [
        "## Task\n",
        "Consider our logo. \n",
        "\n",
        "![motesque_logo_brush.png](data:image/png;base64,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)\n",
        "\n",
        "We have created a training set of 30000 images, each having the logo at a different position (no rotation, no scale, just translation). More specific, the labels depict the x and y coordinates (px) of a specific point of the logo, lets call it *landmark*: \n",
        "\n",
        "![motesque_logo_brush_target.png](data:image/png;base64,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)\n",
        "\n",
        "\n",
        "Your task is simple. Develop **two methods** which can detect the landmark in a given image of the test set with reasonable accuracy. \n",
        "\n",
        "Please use this notebook (Python 3 runtime) to implement and comment your code. You can use any package and library you like (PyTorch, Tensorflow..), but please properly install them if necessary e.g. `!pip install onepackage-to-rule-them-all`\n",
        "\n",
        "Don't forget to visualize your results along the way\n"
      ]
    },
    {
      "cell_type": "markdown",
      "metadata": {
        "id": "41d9u70fyJDW"
      },
      "source": [
        "## How to submit\n",
        "We recommend https://colab.research.google.com/, but you can use any other platform (local, AWS etc)\n",
        "\n",
        "Please download your Jupyter notebook (*.ipynb) and email to tobias@motesque.com"
      ]
    },
    {
      "cell_type": "markdown",
      "metadata": {
        "id": "q2MlVxHvtfQG"
      },
      "source": [
        "\n",
        "## Dataset\n",
        "Download the training data. Split the set into 20000/10000 (train/test)\n"
      ]
    },
    {
      "cell_type": "code",
      "metadata": {
        "id": "lmFaoouDqd0u"
      },
      "source": [
        "!rm -rf /tmp/cv_interview && git clone https://github.com/Motesque/cv_interview.git /tmp/cv_interview\n",
        "!wget https://motesque-public.s3.eu-central-1.amazonaws.com/motesque_logo.tar.gz -O ~/motesque_logo.tar.gz \n",
        "!cd ~ && tar -xzf ~/motesque_logo.tar.gz\n",
        "!ls -alh ~/motesque_logo | head"
      ],
      "execution_count": null,
      "outputs": []
    },
    {
      "cell_type": "markdown",
      "metadata": {
        "id": "Olmdahpfu2PT"
      },
      "source": [
        "## Method 1 - Neural Networks\n",
        "Create a neural network which learns the landmark coordinate and reports the test set error (MSE). Keep it simple. "
      ]
    },
    {
      "cell_type": "code",
      "metadata": {
        "id": "HrnpoEMluoEw"
      },
      "source": [
        "# nn code - Variant 1"
      ],
      "execution_count": null,
      "outputs": []
    },
    {
      "cell_type": "markdown",
      "metadata": {
        "id": "C1NZKYeKv2OQ"
      },
      "source": [
        "After the first neural network, create a modified version which performs slightly better. Please elaborate what you changed, and why you think the modifications improve the performance. Also, simply changing the hyperparameters does not count ;-)"
      ]
    },
    {
      "cell_type": "code",
      "metadata": {
        "id": "GDI5cz_Dv0zp"
      },
      "source": [
        "# nn code - Variant 2"
      ],
      "execution_count": 5,
      "outputs": []
    },
    {
      "cell_type": "markdown",
      "metadata": {
        "id": "7si5qqeUvYwS"
      },
      "source": [
        "## Method 2 - Traditional Algorithms\n",
        "You decide that maybe a Neural Network is overkill. Now implement a problem specific solution using \"traditional\" methods, think OpenCV etc."
      ]
    },
    {
      "cell_type": "code",
      "metadata": {
        "id": "R15oEn5svcOz"
      },
      "source": [
        ""
      ],
      "execution_count": null,
      "outputs": []
    }
  ]
}